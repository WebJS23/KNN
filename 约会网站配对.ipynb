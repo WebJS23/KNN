{
 "cells": [
  {
   "cell_type": "markdown",
   "metadata": {},
   "source": [
    "# 使用 k 近邻算法改进网站的配对效果"
   ]
  },
  {
   "cell_type": "markdown",
   "metadata": {},
   "source": []
  },
  {
   "cell_type": "code",
   "execution_count": 1,
   "metadata": {},
   "outputs": [],
   "source": [
    "# 导入模块\n",
    "import numpy as np\n",
    "import operator"
   ]
  },
  {
   "cell_type": "code",
   "execution_count": 8,
   "metadata": {},
   "outputs": [],
   "source": [
    "#数据的读取\n",
    "#数据说明\n",
    "#特征：Percentage of time spent playing video games，Number of frequent flyer miles earned per year， Liters of ice cream consumed weekly\n",
    "#标签：not at all','in small doses', 'in large doses'\n",
    "def read_data(filename):\n",
    "    result_dictionary = {'largeDoses':3,'smallDoses':2,'notLike':1}\n",
    "    fr = open(filename)\n",
    "    arrayLines = fr.readlines()\n",
    "    numberOfLines = len(arrayLines)\n",
    "    dataMax = np.zeros((numberOfLines,3))\n",
    "    classLabelVector = []\n",
    "    index = 0\n",
    "    for line in arrayLines :\n",
    "        #除去字符串的首尾空格\n",
    "        line = line.strip()\n",
    "        listFormLine = line.split('\\t')\n",
    "        dataMax[index,:] = listFormLine[0:3]\n",
    "        if(listFormLine[-1].isdigit()):\n",
    "            classLabelVector.append(int(listFormLine[-1]))\n",
    "        else:\n",
    "            classLabelVector.append(result_dictionary.get(listFormLine[-1]))\n",
    "        index += 1\n",
    "    return dataMax,classLabelVector"
   ]
  },
  {
   "cell_type": "code",
   "execution_count": 13,
   "metadata": {},
   "outputs": [
    {
     "name": "stdout",
     "output_type": "stream",
     "text": [
      "[[0.44832535 0.39805139 0.56233353]\n",
      " [0.15873259 0.34195467 0.98724416]\n",
      " [0.28542943 0.06892523 0.47449629]\n",
      " ...\n",
      " [0.29115949 0.50910294 0.51079493]\n",
      " [0.52711097 0.43665451 0.4290048 ]\n",
      " [0.47940793 0.3768091  0.78571804]]\n"
     ]
    }
   ],
   "source": [
    "#特征归一化\n",
    "#(x-x_min)/(x_max - x_min)\n",
    "def autoNorm(dataSet):\n",
    "    min = dataSet.min(0)\n",
    "    max = dataSet.max(0)\n",
    "    r = max-min\n",
    "    normDataSet = np.zeros(np.shape(dataSet))\n",
    "    m = dataSet.shape[0]\n",
    "    #normDataSet = dataSet - np.tile(min,(m,1))\n",
    "    #normDataSet = normDataSet / np.tile(r,(m,1))\n",
    "    #广播\n",
    "    normDataSet = (dataSet - min)/r\n",
    "    return normDataSet\n",
    "normDataSet = autoNorm(dataMax)\n",
    "print(normDataSet)\n"
   ]
  },
  {
   "cell_type": "code",
   "execution_count": 20,
   "metadata": {},
   "outputs": [
    {
     "name": "stdout",
     "output_type": "stream",
     "text": [
      "5\n",
      "The total error rate is 0.05\n"
     ]
    }
   ],
   "source": [
    "#定义K临近算法\n",
    "def classifyKNN(train_X,test_X,lables,k):\n",
    "    diff = train_X - test_X\n",
    "    sqDiff = diff **2\n",
    "    sqDistance = sqDiff.sum(axis = 1)\n",
    "    distance = sqDistance ** 0.5\n",
    "    #获取距离由近到远的索引\n",
    "    sortedDistance = distance.argsort()\n",
    "    classcount={}\n",
    "    for i in range(k):\n",
    "        voLables = lables[sortedDistance[i]]\n",
    "        classcount[voLables] = classcount.get(voLables,0)+1\n",
    "    #key = operator.itemgetter(1) 按值排序\n",
    "    #reverse=True 降序\n",
    "    sortedClassCount = sorted(classcount.items(),key = operator.itemgetter(1),reverse=True)\n",
    "    return sortedClassCount[0][0]\n",
    "#作为完整程序，验证分类器\n",
    "def classifyTest():\n",
    "    #10%的程序用来测试\n",
    "    testRatio = 0.10\n",
    "    #读数据\n",
    "    dataMax,labels = read_data('datingTestSet2.txt')\n",
    "    #归一化\n",
    "    normDataSet = autoNorm(dataMax)\n",
    "    m = dataMax.shape[0]\n",
    "    #测试样本数\n",
    "    numTestVector = int(m * testRatio)\n",
    "    #分类错误计数\n",
    "    errorCount = 0\n",
    "    for i in range(numTestVector):\n",
    "        classifierResult = classifyKNN(normDataSet[numTestVector:m,],normDataSet[i,:],labels[numTestVector:m],3)\n",
    "        if(classifierResult!=labels[i]):\n",
    "            errorCount = errorCount +1\n",
    "    print(errorCount)\n",
    "    print(\"The total error rate is {number}\".format(number = errorCount/float(numTestVector)))\n",
    "classifyTest()"
   ]
  },
  {
   "cell_type": "code",
   "execution_count": 26,
   "metadata": {},
   "outputs": [],
   "source": []
  },
  {
   "cell_type": "code",
   "execution_count": null,
   "metadata": {},
   "outputs": [],
   "source": []
  }
 ],
 "metadata": {
  "kernelspec": {
   "display_name": "Python 3",
   "language": "python",
   "name": "python3"
  },
  "language_info": {
   "codemirror_mode": {
    "name": "ipython",
    "version": 3
   },
   "file_extension": ".py",
   "mimetype": "text/x-python",
   "name": "python",
   "nbconvert_exporter": "python",
   "pygments_lexer": "ipython3",
   "version": "3.7.9"
  }
 },
 "nbformat": 4,
 "nbformat_minor": 2
}
